{
  "cells": [
    {
      "cell_type": "markdown",
      "metadata": {
        "id": "view-in-github",
        "colab_type": "text"
      },
      "source": [
        "<a href=\"https://colab.research.google.com/github/AbhishekSatpathy4848/SpeechEmotionRecognition/blob/main/SpeechEmotionRecognition.ipynb\" target=\"_parent\"><img src=\"https://colab.research.google.com/assets/colab-badge.svg\" alt=\"Open In Colab\"/></a>"
      ]
    },
    {
      "cell_type": "code",
      "execution_count": null,
      "metadata": {
        "id": "E6fmoCayVyd5"
      },
      "outputs": [],
      "source": [
        "import os\n",
        "import pandas\n",
        "import numpy\n",
        "import librosa\n",
        "import librosa.display\n",
        "import librosa.feature\n",
        "import matplotlib.pyplot as plt\n",
        "import IPython.display as ipd\n",
        "import seaborn\n",
        "import tensorflow as tf\n",
        "from tensorflow.keras.models import Sequential\n",
        "from tensorflow.keras import layers\n",
        "from tensorflow.keras.optimizers import Adam\n",
        "from tensorflow.keras import regularizers\n",
        "from tensorflow.keras.callbacks import ReduceLROnPlateau,EarlyStopping\n",
        "numpy.set_printoptions(suppress=True,formatter={'float_kind':'{:f}'.format})\n",
        "from sklearn.model_selection import train_test_split"
      ]
    },
    {
      "cell_type": "code",
      "execution_count": null,
      "metadata": {
        "id": "agwGCXRAGZoY"
      },
      "outputs": [],
      "source": [
        "paths=[]\n",
        "label=[]"
      ]
    },
    {
      "cell_type": "code",
      "execution_count": null,
      "metadata": {
        "id": "KzwdR1kxRREY"
      },
      "outputs": [],
      "source": [
        "dnew={}\n",
        "x=\"./drive/MyDrive/TESS Toronto emotional speech set data\"\n",
        "for i in os.listdir(x):\n",
        "  emotion=i[4:].lower()\n",
        "  path=x+\"/\"+i\n",
        "  s=os.listdir(path)\n",
        "  for j in s:\n",
        "    complete_audio_file_path=path+\"/\"+j\n",
        "    paths.append(complete_audio_file_path)\n",
        "    label.append(emotion)"
      ]
    },
    {
      "cell_type": "code",
      "execution_count": null,
      "metadata": {
        "id": "oy22r_BfA970"
      },
      "outputs": [],
      "source": [
        "x=\"./drive/MyDrive/ALL\"\n",
        "for i in os.listdir(x):\n",
        "  p=x+\"/\"+i\n",
        "  paths.append(p)\n",
        "  if \"_su\" in i:\n",
        "    label.append(\"pleasant_surprise\")\n",
        "  elif \"_a\" in i:\n",
        "    label.append(\"angry\")\n",
        "  elif \"_d\" in i:\n",
        "    label.append(\"disgust\")\n",
        "  elif \"_sa\" in i:\n",
        "    label.append(\"sad\")\n",
        "  elif \"_n\" in i:\n",
        "    label.append(\"neutral\")\n",
        "  elif \"_h\" in i:\n",
        "    label.append(\"happy\")\n",
        "  elif \"_f\" in i:\n",
        "    label.append(\"fear\")"
      ]
    },
    {
      "cell_type": "code",
      "execution_count": null,
      "metadata": {
        "id": "Q0L7A2FwIxyG"
      },
      "outputs": [],
      "source": [
        "x=\"./drive/MyDrive/AudioWAV\"\n",
        "for i in os.listdir(x):\n",
        "  p=x+\"/\"+i\n",
        "  paths.append(p)\n",
        "  if \"_ANG\" in i:\n",
        "    label.append(\"angry\")\n",
        "  elif \"_DIS\" in i:\n",
        "    label.append(\"disgust\")\n",
        "  elif \"_SAD\" in i:\n",
        "    label.append(\"sad\")\n",
        "  elif \"_NEU\" in i:\n",
        "    label.append(\"neutral\")\n",
        "  elif \"_HAP\" in i:\n",
        "    label.append(\"happy\")\n",
        "  elif \"_FEA\" in i:\n",
        "    label.append(\"fear\")\n",
        "dnew={\"Emotion\":label,\"Path\":paths}"
      ]
    },
    {
      "cell_type": "code",
      "execution_count": null,
      "metadata": {
        "id": "MjAmnCkyL17H"
      },
      "outputs": [],
      "source": [
        "x=\"./drive/MyDrive/archive\"\n",
        "for i in os.listdir(x):\n",
        "  h=x+\"/\"+i\n",
        "  y=os.listdir(h)\n",
        "  for j in y:\n",
        "    p=h+\"/\"+j\n",
        "    paths.append(p)\n",
        "    if j[6:8]==\"01\":\n",
        "      label.append(\"neutral\")\n",
        "    elif j[6:8]==\"02\":\n",
        "      label.append(\"calm\")\n",
        "    elif j[6:8]==\"03\":\n",
        "      label.append(\"happy\")\n",
        "    elif j[6:8]==\"04\":\n",
        "      label.append(\"sad\")\n",
        "    elif j[6:8]==\"05\":\n",
        "      label.append(\"angry\")\n",
        "    elif j[6:8]==\"06\":\n",
        "       label.append(\"fear\")\n",
        "    elif j[6:8]==\"07\":\n",
        "      label.append(\"disgust\")\n",
        "    elif j[6:8]==\"08\":\n",
        "      label.append(\"pleasant_surprise\")\n",
        "dnew={\"Emotion\":label,\"Path\":paths}"
      ]
    },
    {
      "cell_type": "code",
      "execution_count": null,
      "metadata": {
        "id": "-4u96IHXWEE8"
      },
      "outputs": [],
      "source": [
        "Audio_DataFrame=pandas.DataFrame(dnew)\n",
        "Audio_DataFrame"
      ]
    },
    {
      "cell_type": "code",
      "execution_count": null,
      "metadata": {
        "id": "TptjCYYU1cp3"
      },
      "outputs": [],
      "source": [
        "Audio_DataFrame.to_csv(\"./drive/MyDrive/IEEE\")"
      ]
    },
    {
      "cell_type": "code",
      "execution_count": null,
      "metadata": {
        "id": "DfglbDrWTEYd"
      },
      "outputs": [],
      "source": [
        "print(Audio_DataFrame.groupby([\"Emotion\"])[\"Emotion\"].count())\n",
        "Count_Emotion=numpy.array(Audio_DataFrame.groupby([\"Emotion\"])[\"Emotion\"].count())\n",
        "print(Count_Emotion)"
      ]
    },
    {
      "cell_type": "code",
      "execution_count": null,
      "metadata": {
        "id": "TRpHcPqkUiMl"
      },
      "outputs": [],
      "source": [
        "Unique_Emo=numpy.sort(Audio_DataFrame.Emotion.unique())"
      ]
    },
    {
      "cell_type": "code",
      "execution_count": null,
      "metadata": {
        "id": "uF2k8vu9W2ak"
      },
      "outputs": [],
      "source": [
        "Bar_Plot_Dictionary={\"Emotion\":Unique_Emo,\"Count\":Count_Emotion}"
      ]
    },
    {
      "cell_type": "code",
      "execution_count": null,
      "metadata": {
        "id": "OTdo1vOCZsU5"
      },
      "outputs": [],
      "source": [
        "Bar_Plot_DataFrame=pandas.DataFrame(Bar_Plot_Dictionary)"
      ]
    },
    {
      "cell_type": "code",
      "execution_count": null,
      "metadata": {
        "id": "qwS5qvilYfMk"
      },
      "outputs": [],
      "source": [
        "plt.figure(figsize=(15,10))\n",
        "seaborn.barplot(x=\"Emotion\",y=\"Count\",data=Bar_Plot_DataFrame)"
      ]
    },
    {
      "cell_type": "code",
      "execution_count": null,
      "metadata": {
        "id": "ksxNb5YKdeuQ"
      },
      "outputs": [],
      "source": [
        "def Display_Amplitude_Time_Waveplot(audio_path):\n",
        "  l,sr=librosa.load(audio_path)\n",
        "  plt.figure(figsize=(25,20))\n",
        "  librosa.display.waveplot(l,alpha=0.8)\n",
        "  plt.show()"
      ]
    },
    {
      "cell_type": "code",
      "execution_count": null,
      "metadata": {
        "id": "dhAOBiXCp67l"
      },
      "outputs": [],
      "source": [
        "def Frequency_Spectrum(audio_path):\n",
        "  l,sr=librosa.load(audio_path)\n",
        "  Fast_Fourier_Transform=numpy.fft.fft(l)\n",
        "  Fast_Fourier_Transform=numpy.abs(Fast_Fourier_Transform)\n",
        "  frequency=numpy.linspace(0,sr,len(Fast_Fourier_Transform))\n",
        "  num_frequency_bins=int(len(frequency)/2)\n",
        "  plt.figure(figsize=(15,10))\n",
        "  plt.plot(frequency[:num_frequency_bins],Fast_Fourier_Transform[:num_frequency_bins])\n",
        "  plt.show()\n"
      ]
    },
    {
      "cell_type": "code",
      "execution_count": null,
      "metadata": {
        "id": "tiBSekOTZAHL"
      },
      "outputs": [],
      "source": [
        "def Mel_Spectrogram(audio_path,frame_length,hop_length,mel_bands):\n",
        "  l,sr=librosa.load(audio_path)\n",
        "  mel_spectrogram=librosa.feature.melspectrogram(l,sr=sr,n_fft=frame_length,hop_length=hop_length,n_mels=mel_bands)\n",
        "  mel_to_log=librosa.power_to_db(mel_spectrogram)\n",
        "  plt.figure(figsize=(15,10))\n",
        "  librosa.display.specshow(mel_to_log,sr=sr,hop_length=hop_length,x_axis=\"time\",y_axis=\"mel\")\n",
        "  plt.colorbar(format=\"%+2.f\")\n",
        "  plt.show()"
      ]
    },
    {
      "cell_type": "code",
      "execution_count": null,
      "metadata": {
        "id": "bAw_arYoj1ul"
      },
      "outputs": [],
      "source": [
        "FRAME_SIZE=2048\n",
        "HOP_SIZE=512"
      ]
    },
    {
      "cell_type": "code",
      "execution_count": null,
      "metadata": {
        "id": "079OZxGnxHV3"
      },
      "outputs": [],
      "source": [
        "print(\"Fear\")\n",
        "P=Audio_DataFrame[\"Path\"][0]\n",
        "Display_Amplitude_Time_Waveplot(P)\n",
        "Frequency_Spectrum(P)\n",
        "Mel_Spectrogram(P,FRAME_SIZE,HOP_SIZE,100)\n",
        "ipd.Audio(P)"
      ]
    },
    {
      "cell_type": "code",
      "execution_count": null,
      "metadata": {
        "id": "wag5BQk5yD1x"
      },
      "outputs": [],
      "source": [
        "print(\"Sad\")\n",
        "P=Audio_DataFrame[\"Path\"][1]\n",
        "Display_Amplitude_Time_Waveplot(P)\n",
        "Frequency_Spectrum(P)\n",
        "Mel_Spectrogram(P,FRAME_SIZE,HOP_SIZE,100)\n",
        "ipd.Audio(P)"
      ]
    },
    {
      "cell_type": "code",
      "execution_count": null,
      "metadata": {
        "id": "mzo_d5iu29nV"
      },
      "outputs": [],
      "source": [
        "print(\"Pleasant Surprise\")\n",
        "P=Audio_DataFrame[\"Path\"][943]\n",
        "Display_Amplitude_Time_Waveplot(P)\n",
        "Frequency_Spectrum(P)\n",
        "Mel_Spectrogram(P,FRAME_SIZE,HOP_SIZE,100)\n",
        "ipd.Audio(P)"
      ]
    },
    {
      "cell_type": "code",
      "execution_count": null,
      "metadata": {
        "id": "Bj06Dnt_29p5"
      },
      "outputs": [],
      "source": [
        "print(\"Happy\")\n",
        "P=Audio_DataFrame[\"Path\"][670]\n",
        "Display_Amplitude_Time_Waveplot(P)\n",
        "Frequency_Spectrum(P)\n",
        "Mel_Spectrogram(P,FRAME_SIZE,HOP_SIZE,100)\n",
        "ipd.Audio(P)"
      ]
    },
    {
      "cell_type": "code",
      "execution_count": null,
      "metadata": {
        "id": "lYZEo4c-29vH"
      },
      "outputs": [],
      "source": [
        "print(\"Disgust\")\n",
        "P=Audio_DataFrame[\"Path\"][1321]\n",
        "Display_Amplitude_Time_Waveplot(P)\n",
        "Frequency_Spectrum(P)\n",
        "Mel_Spectrogram(P,FRAME_SIZE,HOP_SIZE,100)\n",
        "ipd.Audio(P)"
      ]
    },
    {
      "cell_type": "code",
      "execution_count": null,
      "metadata": {
        "id": "TDLTXqHG294h"
      },
      "outputs": [],
      "source": [
        "print(\"Neutral\")\n",
        "P=Audio_DataFrame[\"Path\"][1527]\n",
        "Display_Amplitude_Time_Waveplot(P)\n",
        "Frequency_Spectrum(P)\n",
        "Mel_Spectrogram(P,FRAME_SIZE,HOP_SIZE,100)\n",
        "ipd.Audio(P)"
      ]
    },
    {
      "cell_type": "code",
      "execution_count": null,
      "metadata": {
        "id": "An_hCbX42-Wc"
      },
      "outputs": [],
      "source": [
        "print(\"Angry\")\n",
        "P=Audio_DataFrame[\"Path\"][3162]\n",
        "Display_Amplitude_Time_Waveplot(P)\n",
        "Frequency_Spectrum(P)\n",
        "Mel_Spectrogram(P,FRAME_SIZE,HOP_SIZE,100)\n",
        "ipd.Audio(P)"
      ]
    },
    {
      "cell_type": "code",
      "execution_count": null,
      "metadata": {
        "id": "Q3416vbu2-vt"
      },
      "outputs": [],
      "source": [
        "print(\"Calm\")\n",
        "P=Audio_DataFrame[\"Path\"][11601]\n",
        "Display_Amplitude_Time_Waveplot(P)\n",
        "Frequency_Spectrum(P)\n",
        "Mel_Spectrogram(P,FRAME_SIZE,HOP_SIZE,100)\n",
        "ipd.Audio(P)"
      ]
    },
    {
      "cell_type": "code",
      "execution_count": null,
      "metadata": {
        "id": "UgdLkg61lnPO"
      },
      "outputs": [],
      "source": [
        "def extract_features(signal):\n",
        "  zero_crossing_rate=librosa.feature.zero_crossing_rate(signal)[0]\n",
        "  rms=librosa.feature.rms(signal)[0]\n",
        "  mfccs=librosa.feature.mfcc(signal)\n",
        "  chr_stft=librosa.feature.chroma_stft(signal)\n",
        "  mel_spectrogram=librosa.feature.melspectrogram(signal)\n",
        "  mel_spec=librosa.power_to_db(mel_spectrogram)\n",
        "  return numpy.hstack((numpy.mean(zero_crossing_rate.T,axis=0),numpy.mean(chr_stft.T,axis=0),numpy.mean(mfccs.T,axis=0),numpy.mean(rms.T,axis=0),numpy.mean(mel_spec.T,axis=0)))"
      ]
    },
    {
      "cell_type": "code",
      "execution_count": null,
      "metadata": {
        "id": "4yXCroV9ICJ8"
      },
      "outputs": [],
      "source": [
        "def get_features(path):\n",
        "  audio,sr=librosa.load(path,duration=2.5,offset=0.6)\n",
        "\n",
        "  features_original=extract_features(audio) # original audio\n",
        "\n",
        "  noise=numpy.random.normal(0,audio.std(),audio.size)\n",
        "  augmented_noise=audio+noise*0.4\n",
        "  features_noise=extract_features(augmented_noise) # with white noise\n",
        "\n",
        "  augmented_time_stretch=librosa.effects.time_stretch(audio,0.8)\n",
        "  augmented_pitch_shift_on_time_stretch=librosa.effects.pitch_shift(augmented_time_stretch,sr,0.7) #pitch shift on time stretch audio\n",
        "  features_pitch_shift_on_time_stretch=extract_features(augmented_pitch_shift_on_time_stretch)\n",
        "\n",
        "  return numpy.vstack((features_original,features_noise,features_pitch_shift_on_time_stretch))"
      ]
    },
    {
      "cell_type": "code",
      "execution_count": null,
      "metadata": {
        "id": "lhrippMkyETQ"
      },
      "outputs": [],
      "source": [
        "P=Audio_DataFrame[\"Path\"][1005]\n",
        "print(get_features(P).shape)"
      ]
    },
    {
      "cell_type": "code",
      "execution_count": null,
      "metadata": {
        "id": "WXdtMUBgWWcE"
      },
      "outputs": [],
      "source": [
        "P=Audio_DataFrame[\"Path\"][101]\n",
        "audio,sr=librosa.load(P,duration=1)\n",
        "print(len(audio))\n",
        "librosa.get_duration(y=audio, sr=sr)"
      ]
    },
    {
      "cell_type": "code",
      "execution_count": null,
      "metadata": {
        "id": "EXizk71BUBBq"
      },
      "outputs": [],
      "source": [
        "X=[]\n",
        "Y=[]"
      ]
    },
    {
      "cell_type": "code",
      "execution_count": null,
      "metadata": {
        "id": "0RdXnN_V0AIe"
      },
      "outputs": [],
      "source": [
        "iterations=int(len(Audio_DataFrame)/3)\n",
        "for i in range(0,iterations):\n",
        "  audio_file_features=get_features(Audio_DataFrame[\"Path\"][i])\n",
        "  for j in audio_file_features:\n",
        "    X.append(j)\n",
        "    Y.append(Audio_DataFrame[\"Emotion\"][i])\n"
      ]
    },
    {
      "cell_type": "code",
      "execution_count": null,
      "metadata": {
        "id": "FG-wqZVQwAhX"
      },
      "outputs": [],
      "source": [
        "for i in range(iterations,2*iterations):\n",
        "  audio_file_features=get_features(Audio_DataFrame[\"Path\"][i])\n",
        "  for j in audio_file_features:\n",
        "    X.append(j)\n",
        "    Y.append(Audio_DataFrame[\"Emotion\"][i])\n"
      ]
    },
    {
      "cell_type": "code",
      "execution_count": null,
      "metadata": {
        "id": "vZ5kq0jWUFsc"
      },
      "outputs": [],
      "source": [
        "for i in range(2*iterations,3*iterations):\n",
        "  audio_file_features=get_features(Audio_DataFrame[\"Path\"][i])\n",
        "  for j in audio_file_features:\n",
        "    X.append(j)\n",
        "    Y.append(Audio_DataFrame[\"Emotion\"][i])\n"
      ]
    },
    {
      "cell_type": "code",
      "execution_count": null,
      "metadata": {
        "id": "Qy6NCKZQUHZa"
      },
      "outputs": [],
      "source": [
        "Final_Emotion_Dict={\"Features\":X,\"Label\":Y}\n",
        "Final_DataFrame=pandas.DataFrame(Final_Emotion_Dict)"
      ]
    },
    {
      "cell_type": "code",
      "execution_count": null,
      "metadata": {
        "id": "QQ6NhiJLz7_z"
      },
      "outputs": [],
      "source": [
        "Final_DataFrame.to_csv(\"./drive/MyDrive/Final_Emotion_DataFrame\")"
      ]
    },
    {
      "cell_type": "code",
      "execution_count": null,
      "metadata": {
        "id": "GjxpbFyIQ4HA"
      },
      "outputs": [],
      "source": [
        "Final_DataFrame.to_csv(\"./drive/MyDrive/Final_Emotion_DataFrame2\")"
      ]
    },
    {
      "cell_type": "code",
      "execution_count": null,
      "metadata": {
        "id": "t6bDcC2dSfmm"
      },
      "outputs": [],
      "source": [
        "Final_DataFrame.head"
      ]
    },
    {
      "cell_type": "code",
      "execution_count": null,
      "metadata": {
        "id": "wEPRfzvntYW0"
      },
      "outputs": [],
      "source": [
        "pandas.get_dummies(Final_DataFrame)"
      ]
    },
    {
      "cell_type": "code",
      "execution_count": null,
      "metadata": {
        "id": "dLxpJ_IIuaTx"
      },
      "outputs": [],
      "source": [
        "one_hot_encoded=pandas.get_dummies(Final_DataFrame[\"Label\"])"
      ]
    },
    {
      "cell_type": "code",
      "execution_count": null,
      "metadata": {
        "id": "08k6CMWLv1wV"
      },
      "outputs": [],
      "source": [
        "one_hot_encoded"
      ]
    },
    {
      "cell_type": "code",
      "execution_count": null,
      "metadata": {
        "id": "oHNgOfnEa07q"
      },
      "outputs": [],
      "source": [
        "one_hot_encoded.to_csv(\"./drive/MyDrive/One_Hot_Encoded\")"
      ]
    },
    {
      "cell_type": "code",
      "execution_count": null,
      "metadata": {
        "id": "BqxApsRJhNpQ"
      },
      "outputs": [],
      "source": [
        "Final_Data_Sample.shape"
      ]
    },
    {
      "cell_type": "code",
      "execution_count": null,
      "metadata": {
        "id": "NVhh0NPdQxNX"
      },
      "outputs": [],
      "source": [
        "df=pandas.read_csv(\"/content/drive/MyDrive/Final_Emotion_DataFrame\")\n",
        "x=[]\n",
        "for s in Final_DataFrame[\"Features\"]:\n",
        "  l=eval(s.replace(\" \",\",\"))\n",
        "  x.append(l)\n",
        "  i+=1\n",
        "x=numpy.array(x)\n",
        "print(x.shape)\n",
        "print(x.size)\n",
        "x_test,x_train=train_test_split(x,)\n",
        "print(x_test.shape,x_train.shape)"
      ]
    },
    {
      "cell_type": "code",
      "execution_count": null,
      "metadata": {
        "id": "Q7wxrrDPwP0u"
      },
      "outputs": [],
      "source": [
        "One_Hot_Encoding=pandas.read_csv(\"/content/drive/MyDrive/One_Hot_Encoded\")\n",
        "One_Hot_Encoded=numpy.array(One_Hot_Encoding)\n",
        "One_Hot_Encoded=One_Hot_Encoded[:,1:]\n",
        "one_hot_encoded=numpy.array(One_Hot_Encoded)\n",
        "Final_DataFrame=pandas.read_csv(\"/content/drive/MyDrive/Final_Emotion_DataFrame\")\n",
        "i=0\n",
        "Test_Data=[]\n",
        "for s in Final_DataFrame[\"Features\"]:\n",
        "  l=eval(s.replace(\" \",\",\"))\n",
        "  Test_Data.append(l)\n",
        "  i+=1\n",
        "Final_Data_Sample=numpy.array(Test_Data)\n",
        "Final_Data_Sample.resize((36486,18,9))\n",
        "print(Final_Data_Sample.shape)\n",
        "print(one_hot_encoded.shape)\n",
        "Train_Set_Data,Test_Set_Data,Train_Set_Label,Test_Set_Label=train_test_split(Final_Data_Sample,one_hot_encoded)\n",
        "print(Train_Set_Data.shape)\n",
        "print(Test_Set_Data.shape)\n",
        "print(Train_Set_Label.shape)\n",
        "print(Test_Set_Label.shape)"
      ]
    },
    {
      "cell_type": "code",
      "execution_count": null,
      "metadata": {
        "id": "KmTT9pU_c1jM"
      },
      "outputs": [],
      "source": [
        "# print(one_hot_encoded)\n",
        "# print(Final_Data_Sample)"
      ]
    },
    {
      "cell_type": "code",
      "execution_count": null,
      "metadata": {
        "id": "ocZvYU4gfn-5"
      },
      "outputs": [],
      "source": [
        "# model=Sequential()\n",
        "# model.add(layers.Conv2D(256,padding='same',kernel_size=5,activation=\"relu\"))\n",
        "# model.add(layers.MaxPooling2D(pool_size=3,strides=2,padding=\"same\"))\n",
        "# model.add(layers.Conv2D(128,padding='same',kernel_size=5,activation=\"relu\"))\n",
        "# model.add(layers.MaxPooling2D(pool_size=3,strides=2,padding=\"same\"))\n",
        "# model.add(layers.Conv2D(128,padding='same',kernel_size=5,activation=\"relu\"))\n",
        "# model.add(layers.MaxPooling2D(pool_size=3,strides=2,padding=\"same\"))\n",
        "# model.add(layers.Conv2D(128,padding='same',kernel_size=3,activation=\"relu\"))\n",
        "# model.add(layers.MaxPooling2D(pool_size=3,strides=2,padding=\"same\"))\n",
        "# model.add(layers.Dropout(rate=0.3))\n",
        "# model.add(layers.Flatten())\n",
        "# model.add(layers.Dense(8, activation=\"softmax\"))\n",
        "# model.compile(Adam(learning_rate=0.0001),loss=\"categorical_crossentropy\",metrics=[\"accuracy\"])\n",
        "# rlrp = ReduceLROnPlateau(monitor='loss', factor=0.4, verbose=0, patience=1, min_lr=0.0000001)\n",
        "# history=model.fit(Train_Set_Data, Train_Set_Label, batch_size=32, epochs=100, validation_data=(Test_Set_Data, Test_Set_Label), callbacks=[rlrp])\n",
        "# # model.fit(Train_Set_Data,Train_Set_Label,validation_split=0.2,batch_size=32,epochs=50,verbose=1,shuffle=True,callbacks=[rlrp])\n",
        "# # print(history)\n",
        "# # print(history.history.keys())"
      ]
    },
    {
      "cell_type": "code",
      "source": [
        "model=Sequential()\n",
        "model.add(layers.Conv1D(256,padding='same',kernel_size=5,activation=\"relu\"))\n",
        "model.add(layers.MaxPooling1D(pool_size=3,strides=2,padding=\"same\"))\n",
        "model.add(layers.Conv1D(128,padding='same',kernel_size=5,activation=\"relu\"))\n",
        "model.add(layers.MaxPooling1D(pool_size=3,strides=2,padding=\"same\"))\n",
        "model.add(layers.Conv1D(128,padding='same',kernel_size=5,activation=\"relu\"))\n",
        "model.add(layers.MaxPooling1D(pool_size=3,strides=2,padding=\"same\"))\n",
        "model.add(layers.Conv1D(64,padding='same',kernel_size=5,activation=\"relu\"))\n",
        "model.add(layers.MaxPooling1D(pool_size=3,strides=2,padding=\"same\"))\n",
        "model.add(layers.Dropout(rate=0.2))\n",
        "model.add(layers.Flatten())\n",
        "model.add(layers.Dense(8, activation=\"softmax\"))\n",
        "model.compile(Adam(learning_rate=0.00015),loss=\"categorical_crossentropy\",metrics=[\"accuracy\"])\n",
        "rlrp = ReduceLROnPlateau(monitor='loss', factor=0.4, verbose=0, patience=1, min_lr=0.0000000000001)\n",
        "es=EarlyStopping(monitor='loss')\n",
        "history=model.fit(Train_Set_Data, Train_Set_Label, batch_size=32, epochs=100, validation_data=(Test_Set_Data, Test_Set_Label), callbacks=[rlrp],shuffle=True)\n",
        "# model.fit(Train_Set_Data,Train_Set_Label,validation_split=0.2,batch_size=32,epochs=50,verbose=1,shuffle=True,callbacks=[rlrp])\n",
        "# print(history)\n",
        "# print(history.history.keys())"
      ],
      "metadata": {
        "id": "M6dk3ooI2SWo",
        "colab": {
          "base_uri": "https://localhost:8080/"
        },
        "outputId": "81949127-3ae7-414a-8948-a20590b58517"
      },
      "execution_count": null,
      "outputs": [
        {
          "output_type": "stream",
          "name": "stdout",
          "text": [
            "Epoch 1/100\n",
            "856/856 [==============================] - 5s 5ms/step - loss: 1.7890 - accuracy: 0.3104 - val_loss: 1.5443 - val_accuracy: 0.4037 - lr: 1.5000e-04\n",
            "Epoch 2/100\n",
            "856/856 [==============================] - 4s 5ms/step - loss: 1.5225 - accuracy: 0.3936 - val_loss: 1.4426 - val_accuracy: 0.4253 - lr: 1.5000e-04\n",
            "Epoch 3/100\n",
            "856/856 [==============================] - 5s 6ms/step - loss: 1.3953 - accuracy: 0.4409 - val_loss: 1.3221 - val_accuracy: 0.4821 - lr: 1.5000e-04\n",
            "Epoch 4/100\n",
            "856/856 [==============================] - 5s 6ms/step - loss: 1.3197 - accuracy: 0.4679 - val_loss: 1.3249 - val_accuracy: 0.4743 - lr: 1.5000e-04\n",
            "Epoch 5/100\n",
            "856/856 [==============================] - 5s 6ms/step - loss: 1.2820 - accuracy: 0.4867 - val_loss: 1.2308 - val_accuracy: 0.5067 - lr: 1.5000e-04\n",
            "Epoch 6/100\n",
            "856/856 [==============================] - 4s 5ms/step - loss: 1.2473 - accuracy: 0.4996 - val_loss: 1.2304 - val_accuracy: 0.5077 - lr: 1.5000e-04\n",
            "Epoch 7/100\n",
            "856/856 [==============================] - 4s 5ms/step - loss: 1.2148 - accuracy: 0.5111 - val_loss: 1.1957 - val_accuracy: 0.5234 - lr: 1.5000e-04\n",
            "Epoch 8/100\n",
            "856/856 [==============================] - 4s 5ms/step - loss: 1.1899 - accuracy: 0.5183 - val_loss: 1.1737 - val_accuracy: 0.5162 - lr: 1.5000e-04\n",
            "Epoch 9/100\n",
            "856/856 [==============================] - 4s 5ms/step - loss: 1.1727 - accuracy: 0.5273 - val_loss: 1.1496 - val_accuracy: 0.5391 - lr: 1.5000e-04\n",
            "Epoch 10/100\n",
            "856/856 [==============================] - 4s 5ms/step - loss: 1.1483 - accuracy: 0.5372 - val_loss: 1.1523 - val_accuracy: 0.5410 - lr: 1.5000e-04\n",
            "Epoch 11/100\n",
            "856/856 [==============================] - 4s 5ms/step - loss: 1.1372 - accuracy: 0.5427 - val_loss: 1.1227 - val_accuracy: 0.5449 - lr: 1.5000e-04\n",
            "Epoch 12/100\n",
            "856/856 [==============================] - 4s 5ms/step - loss: 1.1147 - accuracy: 0.5543 - val_loss: 1.1251 - val_accuracy: 0.5491 - lr: 1.5000e-04\n",
            "Epoch 13/100\n",
            "856/856 [==============================] - 5s 6ms/step - loss: 1.1049 - accuracy: 0.5562 - val_loss: 1.1086 - val_accuracy: 0.5554 - lr: 1.5000e-04\n",
            "Epoch 14/100\n",
            "856/856 [==============================] - 4s 5ms/step - loss: 1.0966 - accuracy: 0.5595 - val_loss: 1.1171 - val_accuracy: 0.5545 - lr: 1.5000e-04\n",
            "Epoch 15/100\n",
            "856/856 [==============================] - 4s 5ms/step - loss: 1.0782 - accuracy: 0.5638 - val_loss: 1.0875 - val_accuracy: 0.5659 - lr: 1.5000e-04\n",
            "Epoch 16/100\n",
            "856/856 [==============================] - 4s 5ms/step - loss: 1.0616 - accuracy: 0.5732 - val_loss: 1.0677 - val_accuracy: 0.5756 - lr: 1.5000e-04\n",
            "Epoch 17/100\n",
            "856/856 [==============================] - 4s 5ms/step - loss: 1.0533 - accuracy: 0.5707 - val_loss: 1.0755 - val_accuracy: 0.5733 - lr: 1.5000e-04\n",
            "Epoch 18/100\n",
            "856/856 [==============================] - 5s 6ms/step - loss: 1.0382 - accuracy: 0.5822 - val_loss: 1.0761 - val_accuracy: 0.5797 - lr: 1.5000e-04\n",
            "Epoch 19/100\n",
            "856/856 [==============================] - 5s 6ms/step - loss: 1.0247 - accuracy: 0.5877 - val_loss: 1.0412 - val_accuracy: 0.5885 - lr: 1.5000e-04\n",
            "Epoch 20/100\n",
            "856/856 [==============================] - 6s 7ms/step - loss: 1.0126 - accuracy: 0.5930 - val_loss: 1.0408 - val_accuracy: 0.5876 - lr: 1.5000e-04\n",
            "Epoch 21/100\n",
            "856/856 [==============================] - 4s 5ms/step - loss: 0.9958 - accuracy: 0.5992 - val_loss: 1.0515 - val_accuracy: 0.5835 - lr: 1.5000e-04\n",
            "Epoch 22/100\n",
            "856/856 [==============================] - 5s 6ms/step - loss: 0.9875 - accuracy: 0.6017 - val_loss: 1.0141 - val_accuracy: 0.6004 - lr: 1.5000e-04\n",
            "Epoch 23/100\n",
            "856/856 [==============================] - 5s 6ms/step - loss: 0.9815 - accuracy: 0.6051 - val_loss: 1.0197 - val_accuracy: 0.5945 - lr: 1.5000e-04\n",
            "Epoch 24/100\n",
            "856/856 [==============================] - 5s 6ms/step - loss: 0.9639 - accuracy: 0.6143 - val_loss: 1.0098 - val_accuracy: 0.5999 - lr: 1.5000e-04\n",
            "Epoch 25/100\n",
            "856/856 [==============================] - 4s 5ms/step - loss: 0.9599 - accuracy: 0.6163 - val_loss: 1.0126 - val_accuracy: 0.5999 - lr: 1.5000e-04\n",
            "Epoch 26/100\n",
            "856/856 [==============================] - 5s 6ms/step - loss: 0.9441 - accuracy: 0.6229 - val_loss: 1.0353 - val_accuracy: 0.5956 - lr: 1.5000e-04\n",
            "Epoch 27/100\n",
            "856/856 [==============================] - 4s 5ms/step - loss: 0.9293 - accuracy: 0.6271 - val_loss: 1.0353 - val_accuracy: 0.5946 - lr: 1.5000e-04\n",
            "Epoch 28/100\n",
            "856/856 [==============================] - 4s 5ms/step - loss: 0.9155 - accuracy: 0.6347 - val_loss: 1.0058 - val_accuracy: 0.6074 - lr: 1.5000e-04\n",
            "Epoch 29/100\n",
            "856/856 [==============================] - 4s 5ms/step - loss: 0.9026 - accuracy: 0.6388 - val_loss: 1.0279 - val_accuracy: 0.5993 - lr: 1.5000e-04\n",
            "Epoch 30/100\n",
            "856/856 [==============================] - 4s 5ms/step - loss: 0.8890 - accuracy: 0.6467 - val_loss: 1.0018 - val_accuracy: 0.6079 - lr: 1.5000e-04\n",
            "Epoch 31/100\n",
            "856/856 [==============================] - 4s 5ms/step - loss: 0.8794 - accuracy: 0.6482 - val_loss: 1.0052 - val_accuracy: 0.6077 - lr: 1.5000e-04\n",
            "Epoch 32/100\n",
            "856/856 [==============================] - 4s 5ms/step - loss: 0.8667 - accuracy: 0.6529 - val_loss: 1.0135 - val_accuracy: 0.5979 - lr: 1.5000e-04\n",
            "Epoch 33/100\n",
            "856/856 [==============================] - 4s 5ms/step - loss: 0.8567 - accuracy: 0.6593 - val_loss: 0.9854 - val_accuracy: 0.6180 - lr: 1.5000e-04\n",
            "Epoch 34/100\n",
            "856/856 [==============================] - 5s 6ms/step - loss: 0.8406 - accuracy: 0.6654 - val_loss: 0.9871 - val_accuracy: 0.6152 - lr: 1.5000e-04\n",
            "Epoch 35/100\n",
            "856/856 [==============================] - 5s 6ms/step - loss: 0.8296 - accuracy: 0.6691 - val_loss: 1.0192 - val_accuracy: 0.6150 - lr: 1.5000e-04\n",
            "Epoch 36/100\n",
            "856/856 [==============================] - 4s 5ms/step - loss: 0.8176 - accuracy: 0.6743 - val_loss: 1.0032 - val_accuracy: 0.6151 - lr: 1.5000e-04\n",
            "Epoch 37/100\n",
            "856/856 [==============================] - 4s 5ms/step - loss: 0.8078 - accuracy: 0.6787 - val_loss: 0.9830 - val_accuracy: 0.6250 - lr: 1.5000e-04\n",
            "Epoch 38/100\n",
            "856/856 [==============================] - 4s 5ms/step - loss: 0.7969 - accuracy: 0.6863 - val_loss: 1.0140 - val_accuracy: 0.6192 - lr: 1.5000e-04\n",
            "Epoch 39/100\n",
            "856/856 [==============================] - 5s 6ms/step - loss: 0.7791 - accuracy: 0.6923 - val_loss: 1.0106 - val_accuracy: 0.6203 - lr: 1.5000e-04\n",
            "Epoch 40/100\n",
            "856/856 [==============================] - 4s 5ms/step - loss: 0.7691 - accuracy: 0.6949 - val_loss: 0.9788 - val_accuracy: 0.6339 - lr: 1.5000e-04\n",
            "Epoch 41/100\n",
            "856/856 [==============================] - 4s 5ms/step - loss: 0.7584 - accuracy: 0.6995 - val_loss: 0.9999 - val_accuracy: 0.6286 - lr: 1.5000e-04\n",
            "Epoch 42/100\n",
            "856/856 [==============================] - 5s 6ms/step - loss: 0.7446 - accuracy: 0.7064 - val_loss: 0.9966 - val_accuracy: 0.6290 - lr: 1.5000e-04\n",
            "Epoch 43/100\n",
            "856/856 [==============================] - 5s 6ms/step - loss: 0.7370 - accuracy: 0.7114 - val_loss: 1.0049 - val_accuracy: 0.6311 - lr: 1.5000e-04\n",
            "Epoch 44/100\n",
            "856/856 [==============================] - 5s 6ms/step - loss: 0.7287 - accuracy: 0.7133 - val_loss: 0.9618 - val_accuracy: 0.6388 - lr: 1.5000e-04\n",
            "Epoch 45/100\n",
            "856/856 [==============================] - 5s 6ms/step - loss: 0.7136 - accuracy: 0.7182 - val_loss: 1.0102 - val_accuracy: 0.6311 - lr: 1.5000e-04\n",
            "Epoch 46/100\n",
            "856/856 [==============================] - 4s 5ms/step - loss: 0.6999 - accuracy: 0.7265 - val_loss: 0.9921 - val_accuracy: 0.6347 - lr: 1.5000e-04\n",
            "Epoch 47/100\n",
            "856/856 [==============================] - 4s 5ms/step - loss: 0.6900 - accuracy: 0.7289 - val_loss: 0.9754 - val_accuracy: 0.6413 - lr: 1.5000e-04\n",
            "Epoch 48/100\n",
            "856/856 [==============================] - 5s 6ms/step - loss: 0.6761 - accuracy: 0.7356 - val_loss: 0.9844 - val_accuracy: 0.6385 - lr: 1.5000e-04\n",
            "Epoch 49/100\n",
            "856/856 [==============================] - 4s 5ms/step - loss: 0.6731 - accuracy: 0.7344 - val_loss: 1.0250 - val_accuracy: 0.6318 - lr: 1.5000e-04\n",
            "Epoch 50/100\n",
            "856/856 [==============================] - 4s 5ms/step - loss: 0.6638 - accuracy: 0.7376 - val_loss: 0.9751 - val_accuracy: 0.6472 - lr: 1.5000e-04\n",
            "Epoch 51/100\n",
            "856/856 [==============================] - 4s 5ms/step - loss: 0.6435 - accuracy: 0.7471 - val_loss: 1.0446 - val_accuracy: 0.6319 - lr: 1.5000e-04\n",
            "Epoch 52/100\n",
            "856/856 [==============================] - 4s 5ms/step - loss: 0.6383 - accuracy: 0.7507 - val_loss: 0.9802 - val_accuracy: 0.6428 - lr: 1.5000e-04\n",
            "Epoch 53/100\n",
            "856/856 [==============================] - 4s 5ms/step - loss: 0.6253 - accuracy: 0.7565 - val_loss: 1.0286 - val_accuracy: 0.6400 - lr: 1.5000e-04\n",
            "Epoch 54/100\n",
            "856/856 [==============================] - 5s 6ms/step - loss: 0.6147 - accuracy: 0.7602 - val_loss: 1.0143 - val_accuracy: 0.6462 - lr: 1.5000e-04\n",
            "Epoch 55/100\n",
            "856/856 [==============================] - 5s 5ms/step - loss: 0.5986 - accuracy: 0.7649 - val_loss: 1.0969 - val_accuracy: 0.6431 - lr: 1.5000e-04\n",
            "Epoch 56/100\n",
            "856/856 [==============================] - 5s 6ms/step - loss: 0.6024 - accuracy: 0.7656 - val_loss: 1.0262 - val_accuracy: 0.6446 - lr: 1.5000e-04\n",
            "Epoch 57/100\n",
            "856/856 [==============================] - 5s 6ms/step - loss: 0.5126 - accuracy: 0.8000 - val_loss: 1.0193 - val_accuracy: 0.6573 - lr: 6.0000e-05\n",
            "Epoch 58/100\n",
            "856/856 [==============================] - 4s 5ms/step - loss: 0.4948 - accuracy: 0.8085 - val_loss: 1.0208 - val_accuracy: 0.6663 - lr: 6.0000e-05\n",
            "Epoch 59/100\n",
            "856/856 [==============================] - 5s 6ms/step - loss: 0.4864 - accuracy: 0.8116 - val_loss: 1.0402 - val_accuracy: 0.6617 - lr: 6.0000e-05\n",
            "Epoch 60/100\n",
            "856/856 [==============================] - 5s 5ms/step - loss: 0.4750 - accuracy: 0.8160 - val_loss: 1.0384 - val_accuracy: 0.6639 - lr: 6.0000e-05\n",
            "Epoch 61/100\n",
            "856/856 [==============================] - 5s 5ms/step - loss: 0.4639 - accuracy: 0.8207 - val_loss: 1.0511 - val_accuracy: 0.6627 - lr: 6.0000e-05\n",
            "Epoch 62/100\n",
            "856/856 [==============================] - 4s 5ms/step - loss: 0.4580 - accuracy: 0.8222 - val_loss: 1.0334 - val_accuracy: 0.6684 - lr: 6.0000e-05\n",
            "Epoch 63/100\n",
            "856/856 [==============================] - 7s 8ms/step - loss: 0.4498 - accuracy: 0.8269 - val_loss: 1.0486 - val_accuracy: 0.6664 - lr: 6.0000e-05\n",
            "Epoch 64/100\n",
            "856/856 [==============================] - 5s 6ms/step - loss: 0.4420 - accuracy: 0.8306 - val_loss: 1.0663 - val_accuracy: 0.6656 - lr: 6.0000e-05\n",
            "Epoch 65/100\n",
            "856/856 [==============================] - 5s 6ms/step - loss: 0.4362 - accuracy: 0.8328 - val_loss: 1.0852 - val_accuracy: 0.6643 - lr: 6.0000e-05\n",
            "Epoch 66/100\n",
            "856/856 [==============================] - 5s 6ms/step - loss: 0.4311 - accuracy: 0.8340 - val_loss: 1.0871 - val_accuracy: 0.6658 - lr: 6.0000e-05\n",
            "Epoch 67/100\n",
            "856/856 [==============================] - 4s 5ms/step - loss: 0.4225 - accuracy: 0.8370 - val_loss: 1.0947 - val_accuracy: 0.6668 - lr: 6.0000e-05\n",
            "Epoch 68/100\n",
            "856/856 [==============================] - 4s 5ms/step - loss: 0.4132 - accuracy: 0.8412 - val_loss: 1.1107 - val_accuracy: 0.6660 - lr: 6.0000e-05\n",
            "Epoch 69/100\n",
            "856/856 [==============================] - 5s 6ms/step - loss: 0.4075 - accuracy: 0.8449 - val_loss: 1.1011 - val_accuracy: 0.6649 - lr: 6.0000e-05\n",
            "Epoch 70/100\n",
            "856/856 [==============================] - 5s 6ms/step - loss: 0.4047 - accuracy: 0.8463 - val_loss: 1.1616 - val_accuracy: 0.6628 - lr: 6.0000e-05\n",
            "Epoch 71/100\n",
            "856/856 [==============================] - 5s 6ms/step - loss: 0.3961 - accuracy: 0.8489 - val_loss: 1.1529 - val_accuracy: 0.6654 - lr: 6.0000e-05\n",
            "Epoch 72/100\n",
            "856/856 [==============================] - 4s 5ms/step - loss: 0.3865 - accuracy: 0.8506 - val_loss: 1.1124 - val_accuracy: 0.6684 - lr: 6.0000e-05\n",
            "Epoch 73/100\n",
            "856/856 [==============================] - 5s 6ms/step - loss: 0.3823 - accuracy: 0.8535 - val_loss: 1.1499 - val_accuracy: 0.6719 - lr: 6.0000e-05\n",
            "Epoch 74/100\n",
            "856/856 [==============================] - 5s 6ms/step - loss: 0.3798 - accuracy: 0.8541 - val_loss: 1.1508 - val_accuracy: 0.6651 - lr: 6.0000e-05\n",
            "Epoch 75/100\n",
            "856/856 [==============================] - 4s 5ms/step - loss: 0.3721 - accuracy: 0.8605 - val_loss: 1.1570 - val_accuracy: 0.6698 - lr: 6.0000e-05\n",
            "Epoch 76/100\n",
            "856/856 [==============================] - 5s 6ms/step - loss: 0.3682 - accuracy: 0.8616 - val_loss: 1.1745 - val_accuracy: 0.6655 - lr: 6.0000e-05\n",
            "Epoch 77/100\n",
            "856/856 [==============================] - 4s 5ms/step - loss: 0.3609 - accuracy: 0.8644 - val_loss: 1.1711 - val_accuracy: 0.6647 - lr: 6.0000e-05\n",
            "Epoch 78/100\n",
            "856/856 [==============================] - 5s 6ms/step - loss: 0.3529 - accuracy: 0.8660 - val_loss: 1.1575 - val_accuracy: 0.6699 - lr: 6.0000e-05\n",
            "Epoch 79/100\n",
            "856/856 [==============================] - 5s 6ms/step - loss: 0.3504 - accuracy: 0.8663 - val_loss: 1.2051 - val_accuracy: 0.6642 - lr: 6.0000e-05\n",
            "Epoch 80/100\n",
            "856/856 [==============================] - 4s 5ms/step - loss: 0.3462 - accuracy: 0.8708 - val_loss: 1.1776 - val_accuracy: 0.6709 - lr: 6.0000e-05\n",
            "Epoch 81/100\n",
            "856/856 [==============================] - 4s 5ms/step - loss: 0.3401 - accuracy: 0.8726 - val_loss: 1.2253 - val_accuracy: 0.6650 - lr: 6.0000e-05\n",
            "Epoch 82/100\n",
            "856/856 [==============================] - 5s 5ms/step - loss: 0.3360 - accuracy: 0.8725 - val_loss: 1.2299 - val_accuracy: 0.6654 - lr: 6.0000e-05\n",
            "Epoch 83/100\n",
            "856/856 [==============================] - 5s 6ms/step - loss: 0.3311 - accuracy: 0.8756 - val_loss: 1.2523 - val_accuracy: 0.6643 - lr: 6.0000e-05\n",
            "Epoch 84/100\n",
            "856/856 [==============================] - 5s 6ms/step - loss: 0.3221 - accuracy: 0.8798 - val_loss: 1.2505 - val_accuracy: 0.6688 - lr: 6.0000e-05\n",
            "Epoch 85/100\n",
            "856/856 [==============================] - 5s 6ms/step - loss: 0.3183 - accuracy: 0.8797 - val_loss: 1.2592 - val_accuracy: 0.6682 - lr: 6.0000e-05\n",
            "Epoch 86/100\n",
            "856/856 [==============================] - 6s 7ms/step - loss: 0.3151 - accuracy: 0.8832 - val_loss: 1.2301 - val_accuracy: 0.6656 - lr: 6.0000e-05\n",
            "Epoch 87/100\n",
            "856/856 [==============================] - 4s 5ms/step - loss: 0.3094 - accuracy: 0.8847 - val_loss: 1.2716 - val_accuracy: 0.6664 - lr: 6.0000e-05\n",
            "Epoch 88/100\n",
            "856/856 [==============================] - 5s 6ms/step - loss: 0.3052 - accuracy: 0.8849 - val_loss: 1.2312 - val_accuracy: 0.6668 - lr: 6.0000e-05\n",
            "Epoch 89/100\n",
            "856/856 [==============================] - 5s 6ms/step - loss: 0.3016 - accuracy: 0.8897 - val_loss: 1.3138 - val_accuracy: 0.6695 - lr: 6.0000e-05\n",
            "Epoch 90/100\n",
            "856/856 [==============================] - 5s 5ms/step - loss: 0.2982 - accuracy: 0.8874 - val_loss: 1.2802 - val_accuracy: 0.6709 - lr: 6.0000e-05\n",
            "Epoch 91/100\n",
            "856/856 [==============================] - 5s 6ms/step - loss: 0.2933 - accuracy: 0.8898 - val_loss: 1.2777 - val_accuracy: 0.6729 - lr: 6.0000e-05\n",
            "Epoch 92/100\n",
            "856/856 [==============================] - 5s 6ms/step - loss: 0.2889 - accuracy: 0.8928 - val_loss: 1.3220 - val_accuracy: 0.6733 - lr: 6.0000e-05\n",
            "Epoch 93/100\n",
            "856/856 [==============================] - 5s 6ms/step - loss: 0.2834 - accuracy: 0.8944 - val_loss: 1.2981 - val_accuracy: 0.6705 - lr: 6.0000e-05\n",
            "Epoch 94/100\n",
            "856/856 [==============================] - 6s 8ms/step - loss: 0.2808 - accuracy: 0.8952 - val_loss: 1.3227 - val_accuracy: 0.6709 - lr: 6.0000e-05\n",
            "Epoch 95/100\n",
            "856/856 [==============================] - 5s 6ms/step - loss: 0.2762 - accuracy: 0.8971 - val_loss: 1.3597 - val_accuracy: 0.6693 - lr: 6.0000e-05\n",
            "Epoch 96/100\n",
            "856/856 [==============================] - 8s 9ms/step - loss: 0.2738 - accuracy: 0.8978 - val_loss: 1.3391 - val_accuracy: 0.6693 - lr: 6.0000e-05\n",
            "Epoch 97/100\n",
            "856/856 [==============================] - 5s 6ms/step - loss: 0.2705 - accuracy: 0.9006 - val_loss: 1.3419 - val_accuracy: 0.6709 - lr: 6.0000e-05\n",
            "Epoch 98/100\n",
            "856/856 [==============================] - 5s 6ms/step - loss: 0.2626 - accuracy: 0.9024 - val_loss: 1.3810 - val_accuracy: 0.6719 - lr: 6.0000e-05\n",
            "Epoch 99/100\n",
            "856/856 [==============================] - 5s 6ms/step - loss: 0.2620 - accuracy: 0.9034 - val_loss: 1.3460 - val_accuracy: 0.6727 - lr: 6.0000e-05\n",
            "Epoch 100/100\n",
            "856/856 [==============================] - 5s 5ms/step - loss: 0.2572 - accuracy: 0.9047 - val_loss: 1.4100 - val_accuracy: 0.6725 - lr: 6.0000e-05\n"
          ]
        }
      ]
    }
  ],
  "metadata": {
    "accelerator": "GPU",
    "colab": {
      "collapsed_sections": [],
      "provenance": [],
      "include_colab_link": true
    },
    "gpuClass": "standard",
    "kernelspec": {
      "display_name": "Python 3",
      "name": "python3"
    },
    "language_info": {
      "name": "python"
    }
  },
  "nbformat": 4,
  "nbformat_minor": 0
}